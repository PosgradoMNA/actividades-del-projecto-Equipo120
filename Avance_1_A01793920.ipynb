{
  "nbformat": 4,
  "nbformat_minor": 0,
  "metadata": {
    "colab": {
      "provenance": []
    },
    "kernelspec": {
      "name": "python3",
      "display_name": "Python 3"
    },
    "language_info": {
      "name": "python"
    }
  },
  "cells": [
    {
      "cell_type": "code",
      "execution_count": null,
      "metadata": {
        "id": "77afS5abLQAy"
      },
      "outputs": [],
      "source": []
    },
    {
      "cell_type": "markdown",
      "source": [
        "**Proyecto Final – Avance 1**\n",
        "\n",
        "Jonathan Montaña Vasquez (A01366501)\n",
        "\n",
        "\n",
        "\n",
        "**El nombre que caracteriza el conjunto de datos.**\n",
        "Market Prices of Onion 2020\n",
        "Variety-wise market prices of onion in India in 2020\n",
        "\n",
        "**La organización que lo generó.**\n",
        "\n",
        "\n",
        "**Incluya un enlace de Internet donde se puedan descargar el base de datos en línea**\n",
        "\n",
        "https://www.kaggle.com/datasets/ravisane1/market-price-of-onion-2020\n",
        "\n",
        "**Describe el conjunto de datos. ¿Qué datos contiene?**\n",
        "\n",
        "Este conjunto de datos tiene precios de mercado diarios/semanales de cebolla de varios mercados de la India para el año 2020. Los datos se recopilan del sitio web data.gov.in. Consta de 9 columnas:\n",
        "\n",
        "*Nombre del estado, distrito, mercado, nombre del producto, variedad de cebolla, fecha de llegada, precio mínimo, precio máximo, precio modal.\n",
        "\n",
        "**¿Cuáles son algunas de las preguntas de investigación que podría responder con estos datos? Enumere al menos OCHO (no responda las preguntas).**\n",
        "\n",
        "1.   En qué lugar de la India se consume más cebolla?\n",
        "2.   En qué lugar de la India se consume menos cebolla?\n",
        "3.   Precio promedio de la cebolla durante el año?\n",
        "4.   En qué mes se produjo un mayor incremento de precio?\n",
        "5.   En qué mes se produjo un menor incremento de precio?\n",
        "6.   Cuál fue el precio mínimo de la cebolla durante el año?\n",
        "7.   Cuál fue el precio máximo de la cebolla durante el año?\n",
        "8.   Qué variedad de cebolla es la más consumida?\n",
        "\n",
        "**¿Qué actor (empresa, sector de la sociedad, organismo descentralizado, gobierno, etc.) estaría interesado en las preguntas mencionadas que identificó?**\n",
        "\n",
        "Gobierno de India, Dirección General de Comercio Exterior (DGFT), mercado interno, importadores de cebollas principales (Bangladesh, Malasia, Emiratos Árabes Unidos y Sri Lanka), empresas minoristas y mayoristas en la India.\n",
        "\n",
        "Read more at:\n",
        "https://economictimes.indiatimes.com/news/economy/agriculture/india-bans-export-of-all-varieties-of-onion/articleshow/78109131.cms?utm_source=contentofinterest&utm_medium=text&utm_campaign=cppst\n"
      ],
      "metadata": {
        "id": "E3FeTazbLZcz"
      }
    }
  ]
}