{
 "cells": [
  {
   "cell_type": "markdown",
   "metadata": {},
   "source": [
    "# Actividad 2 de proyecto final: Selección de metodología\n",
    "\n",
    "---\n",
    "\n",
    "#### Equipo: 120\n",
    "##### Alumno: César Iván Pedrero Martínez"
   ]
  },
  {
   "cell_type": "markdown",
   "metadata": {},
   "source": [
    "## Metodología a usar: TDSP\n",
    "\n",
    "\n",
    "[TSDP](https://www.datascience-pm.com/tdsp/) es una metodología ágil e iterativa creada por [Microsoft](https://learn.microsoft.com/en-us/azure/architecture/data-science-process/overview) que se enfoca en la entrega rápida y eficiente de soluciones estadísticas y desarrollo de aplicaciones inteligentes. Este proceso moderno de ciencia de datos combina elementos de metodologías *Agile* para desarollo de aplicaciones y el *DSLC (Data Science Life Cycle)*. Además de proveer una estructura de proyecto estandarizada. también define una arquitectura en la nube de Azure para el procesado de dato (la cuál ignoraremos en el proyecto ya que no se requiere un procesado de Big Data con clusters).\n",
    "\n"
   ]
  },
  {
   "cell_type": "markdown",
   "metadata": {},
   "source": [
    "## Componentes del TDSP\n",
    "\n",
    "\n",
    "TDSP se compone de los siguientes componentes clave:\n",
    "\n",
    "* Una definición de **ciclo de vida de ciencia de datos**.\n",
    "* Una **estructura de proyecto estandarizada**.\n",
    "* **Infraestructura y recursos** para proyectos de ciencia de datos.\n",
    "* **Herramientas y utilidades** para la ejecución de proyectos."
   ]
  },
  {
   "cell_type": "markdown",
   "metadata": {},
   "source": [
    "## Fases del TDSP (pasos estándares)\n",
    "\n",
    "El TDSP define un ciclo de vida que describe las fases que los proyectos suelen ejecutar de forma **iterativa**:\n",
    "\n",
    "- **Comprensión empresarial:**\n",
    "    - Entendimiento de las reglas de negocio.\n",
    "    - Definición del problema a resolver con el proyecto y solución esperada.\n",
    "- **Adquisición y comprensión de datos:**\n",
    "    - Obtención de los datos. Esto incluye la creación de los pipelines para su extracción y la arquitecutra del entorno de desarrollo.\n",
    "    - Exploración y limpieza del set de datos para su uso y visualización.\n",
    "- **Modelado:**\n",
    "    - Ingeniería de características (transformación, selección, agrupamiento, etc.).\n",
    "    - Entrenamiento del modelo (algoritmos, ajuste de parámetros, re-entrenamiento, gestión de modelos).\n",
    "    - Evaluación del modelo (validación, A/B testing)\n",
    "- **Despliegue (esta fase no está contemplada para el proyecto):**\n",
    "    - Puntuación del modelo.\n",
    "    - Desempeño.\n",
    "    - Monitoreo.\n"
   ]
  },
  {
   "cell_type": "markdown",
   "metadata": {},
   "source": [
    "## TDSP: Modificaciones a la metodología\n",
    "\n",
    "Para ajustarse al proyecto de la clase, el TDSP que vamos a seguir tendrá modificaciones en las siguientes fases:\n",
    "\n",
    "- **Adquisición y comprensión de datos:**\n",
    "    - No habrá pipelines para la extracción de datos.\n",
    "- **Modelado:**\n",
    "    - No habrá algoritmos de `machine learning` para el procesamiento de los datos (esto puede cambiar dependiendo del scope de futuras entregas).\n",
    "- **Despliegue (esta fase no está contemplada para el proyecto):**\n",
    "    - El despliege se reemplazará por la subida de las actividades en Canvas.\n",
    "    - La aceptación del cliente se reemplazará por la calificación del docente en las actividades.\n"
   ]
  },
  {
   "cell_type": "markdown",
   "metadata": {},
   "source": [
    "## TDSP: Diagrama de la metodología\n",
    "\n",
    "El siguiente diagrama muestra las fases del TDSP y la comunicación entre ellas. Asímismo, contiene anotaciones de las modificaciones de la metodología para ajustarse al proyecto de la clase.\n",
    "\n",
    "<div style=\"text-align:center;\">\n",
    "    <img width=\"50%\" src=\"img/miro_export.png\"/>\n",
    "</div>"
   ]
  },
  {
   "cell_type": "markdown",
   "metadata": {},
   "source": [
    "## TDSP: Diagrama interactivo de la metodología (Miro Embed)\n",
    "\n",
    "> IMPORTANTE: Para jugar con el diagrama interactivo, es necesario que descargues este archivo `ipynb` y lo ejecutes en un notebook (el visualizador de GitHub no soporta iframes).\n",
    "\n",
    "<div style=\"text-align:center;\">\n",
    "    <iframe width=\"60%\" height=\"600\" src=\"https://miro.com/app/live-embed/uXjVPTCjdig=/?moveToViewport=-981,-312,1389,1194&embedId=684815861477\" frameborder=\"0\" scrolling=\"no\" allowfullscreen></iframe>\n",
    "</div>"
   ]
  },
  {
   "cell_type": "markdown",
   "metadata": {},
   "source": [
    "## Referencias\n",
    "\n",
    "- Data Science Methodologies and Frameworks Guide. (2022, June 1). Data Science Process Alliance. Retrieved September 25, 2022, from https://www.datascience-pm.com/data-science-methodologies/\n",
    "- Hotz, B. N. (2022, June 15). What is TDSP? Data Science Process Alliance. Retrieved September 25, 2022, from https://www.datascience-pm.com/tdsp/\n",
    "- What is the Team Data Science Process? - Azure Architecture Center. (n.d.). Microsoft Learn. Retrieved September 25, 2022, from https://learn.microsoft.com/en-us/azure/architecture/data-science-process/overview\n",
    "- The Team Data Science Process lifecycle - Azure Architecture Center. (2022, February 18). Microsoft Learn. Retrieved September 25, 2022, from https://learn.microsoft.com/en-us/azure/architecture/data-science-process/lifecycle\n",
    "- Microsoft-TDSP/README.md at master · Azure/Microsoft-TDSP. (n.d.). GitHub. Retrieved September 25, 2022, from https://github.com/Azure/Microsoft-TDSP/blob/master/Docs/README.md\n",
    "- Heck, P., & Cruz, L. (2021, February). Engineering Machine Learning Applications. Delft University of Technology. https://doi.org/10.13140/RG.2.2.33897.83041\n"
   ]
  }
 ],
 "metadata": {
  "kernelspec": {
   "display_name": "Python 3.8.9 64-bit",
   "language": "python",
   "name": "python3"
  },
  "language_info": {
   "name": "python",
   "version": "3.8.9"
  },
  "orig_nbformat": 4,
  "vscode": {
   "interpreter": {
    "hash": "31f2aee4e71d21fbe5cf8b01ff0e069b9275f58929596ceb00d14d90e3e16cd6"
   }
  }
 },
 "nbformat": 4,
 "nbformat_minor": 2
}
