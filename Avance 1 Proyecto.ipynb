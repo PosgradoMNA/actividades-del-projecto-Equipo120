{
 "cells": [
  {
   "cell_type": "code",
   "execution_count": 1,
   "id": "a6dc2497",
   "metadata": {},
   "outputs": [
    {
     "name": "stdout",
     "output_type": "stream",
     "text": [
      "hola mundo :3\n"
     ]
    }
   ],
   "source": [
    "print('hola mundo :3')"
   ]
  },
  {
   "cell_type": "code",
   "execution_count": null,
   "id": "e8dd10a9",
   "metadata": {},
   "outputs": [],
   "source": []
  },
  {
   "cell_type": "markdown",
   "id": "b72e2208",
   "metadata": {},
   "source": [
    "\n",
    "### nombre data set: precion cebollas 2020\n",
    "#### Organizacíon: Kaggle\n",
    "#### URL: https://www.kaggle.com/datasets/ravisane1/market-price-of-onion-2020 \n",
    "El conjunto de datos contiene informacion relacionada al precio de la cebolla en distintos lugares de estados unidos\n",
    "durante el año 2020\n",
    "- preguntas:\n",
    "    - en que lugar de estados unidos se consume mas cebolla\n",
    "    - en que lugar de estados unidos se consume menos cebolla\n",
    "    - precio promedio de la cebolla durante el año\n",
    "    - en que mes se produjo un mayor incremento de precio\n",
    "    - en que mes se produjo un menor incremento de precio\n",
    "    - cual fue el precio minimo de la cebolla durante el año\n",
    "    - cual fue el precio maximo de la cebolla durante el año\n",
    "    - que variedad de cebolla es la mas consumida\n",
    "- el actor interesado en el analizis de la cebolla son los agricultores, el estado, los mercados\n",
    "\"\"\""
   ]
  },
  {
   "cell_type": "markdown",
   "id": "4ab03e6b",
   "metadata": {},
   "source": [
    "# Resumen programacion\n",
    "   ####\n"
   ]
  },
  {
   "cell_type": "markdown",
   "id": "a4474065",
   "metadata": {},
   "source": []
  },
  {
   "cell_type": "markdown",
   "id": "3b4506d7",
   "metadata": {},
   "source": []
  }
 ],
 "metadata": {
  "kernelspec": {
   "display_name": "Python 3 (ipykernel)",
   "language": "python",
   "name": "python3"
  },
  "language_info": {
   "codemirror_mode": {
    "name": "ipython",
    "version": 3
   },
   "file_extension": ".py",
   "mimetype": "text/x-python",
   "name": "python",
   "nbconvert_exporter": "python",
   "pygments_lexer": "ipython3",
   "version": "3.9.12"
  }
 },
 "nbformat": 4,
 "nbformat_minor": 5
}
